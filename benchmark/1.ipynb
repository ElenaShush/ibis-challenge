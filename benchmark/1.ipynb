{
 "cells": [
  {
   "cell_type": "code",
   "execution_count": 1,
   "metadata": {},
   "outputs": [],
   "source": [
    "%load_ext autoreload"
   ]
  },
  {
   "cell_type": "code",
   "execution_count": 2,
   "metadata": {},
   "outputs": [],
   "source": [
    "%autoreload 2"
   ]
  },
  {
   "cell_type": "code",
   "execution_count": 3,
   "metadata": {},
   "outputs": [],
   "source": [
    "from attr import define, field\n",
    "from typing import List, Union, ClassVar, Optional, TypeVar\n",
    "from pathlib import Path\n",
    "from pathlib import Path\n",
    "import glob\n",
    "import json\n",
    "\n",
    "from typing import TypeVar\n",
    "import glob\n",
    "import parse\n",
    "from concurrent.futures import ThreadPoolExecutor, as_completed\n",
    "from datasetconfig import DatasetConfig\n",
    "from dataset import Dataset, DatasetType\n",
    "from seqentry import SeqEntry\n",
    "\n",
    "from bedtoolsexecutor import BedtoolsExecutor\n",
    "from chipseqprotocol import ChIPSeqIrisProtocol\n",
    "from benchmarkconfig import BenchmarkConfig\n",
    "from chipseqdataset import ChIPSeqDataset"
   ]
  },
  {
   "cell_type": "code",
   "execution_count": 33,
   "metadata": {},
   "outputs": [],
   "source": [
    "AVAILABLE_PROCS: int = 20\n",
    "BEDTOOLS_PATH: Path = Path(\"/home_local/dpenzar/bedtools2/bin\")\n",
    "BENCHMARK_CONFIG = Path(\"/home_local/dpenzar/chipseq_config.json\")\n",
    "CHS_ROOT: Path = Path(\"/home_local/vorontsovie/greco-data/release_7a.2021-10-14/full/CHS/Val_intervals\")\n",
    "DS_DIR = Path('.ChIPSeqDatasets2')\n",
    "MODELS_PATH = Path(\"/home_local/dpenzar/models.json\")\n",
    "ChIPSeqLOGS = Path(\".chipseq_logs\")\n"
   ]
  },
  {
   "cell_type": "code",
   "execution_count": 5,
   "metadata": {},
   "outputs": [],
   "source": [
    "def peakfls2configs(files: list[Path], \n",
    "                    name_parser= parse.compile(\"{tf_name}.{fl}@{exp_type}@{name}@Peaks.{unique_tag}.{dt_type}.peaks\")) -> list[DatasetConfig]:\n",
    "    all_records = []\n",
    "    for val_fl in files:\n",
    "        val_fl = val_fl.absolute()\n",
    "        data = name_parser.parse(val_fl.name)\n",
    "        if data is None or isinstance(data, parse.Match):\n",
    "            raise Exception(\"Wrong peakfile name format\")\n",
    "        dt = {\n",
    "            \"name\": data[\"name\"],\n",
    "            \"exp_type\": \"ChIPSeq\",\n",
    "            \"tf\": data['tf_name'],\n",
    "            \"ds_type\": data['dt_type'],\n",
    "            \"path\": val_fl,\n",
    "            \"curation_status\": \"accepted\",\n",
    "            \"protocol\": \"iris\",\n",
    "            \"metainfo\": {}\n",
    "        }\n",
    "        all_records.append(DatasetConfig.from_dict(dt))\n",
    "    return all_records"
   ]
  },
  {
   "cell_type": "code",
   "execution_count": 6,
   "metadata": {},
   "outputs": [],
   "source": [
    "BedtoolsExecutor.set_defaull_executor(BEDTOOLS_PATH)"
   ]
  },
  {
   "cell_type": "code",
   "execution_count": 7,
   "metadata": {},
   "outputs": [],
   "source": [
    "val_files = [Path(x) for x in glob.glob(str(CHS_ROOT / '*.peaks'))]\n",
    "configs = peakfls2configs(val_files)"
   ]
  },
  {
   "cell_type": "code",
   "execution_count": 8,
   "metadata": {},
   "outputs": [],
   "source": [
    "IRIS_CHIPSEQ_CONFIG = {\n",
    "    \"mx_dist\": 300,\n",
    "    \"peak_size\": 301,\n",
    "    \"shades_per_peak\": 1,\n",
    "    \"negative_ratio\": 100,\n",
    "    \"genome\": Path(\"/home_local/dpenzar/hg38\")\n",
    "}"
   ]
  },
  {
   "cell_type": "code",
   "execution_count": 9,
   "metadata": {},
   "outputs": [],
   "source": [
    "protocol = ChIPSeqIrisProtocol.from_dt(IRIS_CHIPSEQ_CONFIG)"
   ]
  },
  {
   "cell_type": "code",
   "execution_count": null,
   "metadata": {},
   "outputs": [],
   "source": [
    "#ChIPSeqIrisProtocol.process()"
   ]
  },
  {
   "cell_type": "code",
   "execution_count": 15,
   "metadata": {},
   "outputs": [],
   "source": [
    "bench = BenchmarkConfig.from_json(BENCHMARK_CONFIG).make_benchmark()"
   ]
  },
  {
   "cell_type": "code",
   "execution_count": 16,
   "metadata": {},
   "outputs": [
    {
     "name": "stdout",
     "output_type": "stream",
     "text": [
      "6664\n"
     ]
    }
   ],
   "source": [
    "with open(MODELS_PATH, \"r\") as inp:\n",
    "    models = json.load(inp)\n",
    "print(len(models))\n",
    "for mcfg in models:\n",
    "    tf_name = mcfg['tf']\n",
    "    name = mcfg['name']\n",
    "    path = mcfg[\"path\"]\n",
    "    bench.add_pfm(tf_name, name, path)"
   ]
  },
  {
   "cell_type": "code",
   "execution_count": 21,
   "metadata": {},
   "outputs": [],
   "source": [
    "ds = ChIPSeqDataset.load('.ChIPSeqDatasets2/THC_0211_foreign.bed', tp=DatasetType.TRAIN, fmt='.tsv')"
   ]
  },
  {
   "cell_type": "code",
   "execution_count": 28,
   "metadata": {},
   "outputs": [],
   "source": [
    "executor = ThreadPoolExecutor(max_workers=AVAILABLE_PROCS)"
   ]
  },
  {
   "cell_type": "code",
   "execution_count": 29,
   "metadata": {},
   "outputs": [],
   "source": [
    "ChIPSeqLOGS.mkdir(exist_ok=True, parents=True)"
   ]
  },
  {
   "cell_type": "code",
   "execution_count": 43,
   "metadata": {},
   "outputs": [
    {
     "name": "stdout",
     "output_type": "stream",
     "text": [
      "Dataset SI0159\n",
      "Submited 0 futures\n",
      "Submited 0 futures\n",
      "Dataset THC_0074\n",
      "Submited 0 futures\n",
      "Submited 0 futures\n",
      "Dataset THC_0246\n",
      "Submited 90 futures\n"
     ]
    },
    {
     "name": "stderr",
     "output_type": "stream",
     "text": [
      "/home_local/dpenzar/miniconda3/lib/python3.9/site-packages/rpy2/rinterface.py:955: UserWarning: R is not initialized by the main thread.\n",
      "                Its taking over SIGINT cannot be reversed here, and as a\n",
      "                consequence the embedded R cannot be interrupted with Ctrl-C.\n",
      "                Consider (re)setting the signal handler of your choice from\n",
      "                the main thread.\n",
      "  warnings.warn(\n"
     ]
    },
    {
     "name": "stdout",
     "output_type": "stream",
     "text": [
      "Finished for CHAMP1.DBD@PBM.HK@wiggy-russet-beetle@Halle.Dimont@Motif_1_astrained.ppm_sumscore@THC_0246_shades\n",
      "Finished for CHAMP1.DBD@PBM.HK@wiggy-russet-beetle@Halle.Dimont@Motif_1_w0_01_bg4_imw15_astrained.ppm_sumscore@THC_0246_shades\n",
      "Finished for CHAMP1.DBD@PBM.ME@dorky-beige-nightingale@Halle.Dimont@Motif_1_w0_01_bg4_imw15_astrained.ppm_sumscore@THC_0246_shades\n",
      "Finished for CHAMP1.FL@CHS@silly-champagne-burmese@HughesLab.Homer@Motif1.ppm_sumscore@THC_0246_shades\n",
      "Finished for CHAMP1.DBD@SMS@flaky-saffron-walrus@Halle.Dimont@Motif_1_1_posneg_astrained.ppm_sumscore@THC_0246_shades\n",
      "Finished for CHAMP1.FL@CHS@silly-champagne-burmese@Halle.Dimont@Motif_1_w20_astrained.ppm_best@THC_0246_shades\n",
      "Finished for CHAMP1.DBD@PBM.HK@wiggy-russet-beetle@Halle.Dimont@Motif_1_astrained.ppm_best@THC_0246_shades\n",
      "Finished for CHAMP1.FL@CHS@silly-champagne-burmese@HughesLab.Homer@Motif4.ppm_sumscore@THC_0246_shades\n",
      "Finished for CHAMP1.FL@CHS@silly-champagne-burmese@HughesLab.Homer@Motif2.ppm_best@THC_0246_shades\n",
      "Finished for CHAMP1.DBD@PBM.HK@wiggy-russet-beetle@Halle.Dimont@Motif_1_w0_01_bg4_imw15_astrained.ppm_best@THC_0246_shades\n",
      "Finished for CHAMP1.DBD@PBM.ME@messy-cerulean-elephant@Halle.Dimont@Motif_1_w0_01_bg4_imw15_astrained.ppm_sumscore@THC_0246_shades\n",
      "Finished for CHAMP1.DBD@PBM.HK@wiggy-cardinal-toad@Halle.Dimont@Motif_1_astrained.ppm_sumscore@THC_0246_shades\n",
      "Finished for CHAMP1.FL@CHS@silly-champagne-burmese@HughesLab.Homer@Motif1.ppm_best@THC_0246_shades\n",
      "Finished for CHAMP1.FL@CHS@silly-champagne-burmese@HughesLab.Homer@Motif2.ppm_sumscore@THC_0246_shades\n",
      "Finished for CHAMP1.FL@CHS@silly-champagne-burmese@Halle.Dimont@Motif_1_w20_astrained.ppm_sumscore@THC_0246_shades\n",
      "Finished for CHAMP1.DBD@PBM.ME@dorky-beige-nightingale@Halle.Dimont@Motif_1_w0_01_bg4_imw15_astrained.ppm_best@THC_0246_shades\n",
      "Finished for CHAMP1.DBD@SMS@flaky-saffron-walrus@Halle.Dimont@Motif_1_1_posneg_astrained.ppm_best@THC_0246_shades\n",
      "Finished for CHAMP1.FL@CHS@silly-champagne-burmese@HughesLab.Homer@Motif4.ppm_best@THC_0246_shades\n",
      "Finished for CHAMP1.DBD@PBM.ME@messy-cerulean-elephant@Halle.Dimont@Motif_1_w0_01_bg4_imw15_astrained.ppm_best@THC_0246_shades\n",
      "Finished for CHAMP1.DBD@PBM.HK@wiggy-cardinal-toad@Halle.Dimont@Motif_1_astrained.ppm_best@THC_0246_shades\n",
      "Finished for CHAMP1.DBD@SMS@flaky-saffron-walrus@Halle.Dimont@Motif_1_posneg_astrained.ppm_sumscore@THC_0246_shades\n",
      "Finished for CHAMP1.DBD@SMS@flaky-saffron-walrus@Halle.Dimont@Motif_1_posneg_astrained.ppm_best@THC_0246_shades\n",
      "Finished for CHAMP1.DBD@SMS@dorky-wheat-abyssinian@Halle.Dimont@Motif_1_posneg_astrained.ppm_sumscore@THC_0246_shades\n",
      "Finished for CHAMP1.DBD@SMS@dorky-wheat-abyssinian@Halle.Dimont@Motif_1_posneg_astrained.ppm_best@THC_0246_shades\n",
      "Finished for CHAMP1.DBD@SMS@dorky-wheat-abyssinian@Halle.Dimont@Motif_1_1_posneg_astrained.ppm_sumscore@THC_0246_shades\n",
      "Finished for CHAMP1.DBD@SMS@dorky-wheat-abyssinian@Halle.Dimont@Motif_1_1_posneg_astrained.ppm_best@THC_0246_shades\n",
      "Finished for CHAMP1.DBD@PBM.ME@messy-cerulean-elephant@Halle.Dimont@Motif_1_astrained.ppm_sumscore@THC_0246_shades\n",
      "Finished for CHAMP1.DBD@PBM.ME@messy-cerulean-elephant@Halle.Dimont@Motif_1_astrained.ppm_best@THC_0246_shades\n",
      "Finished for CHAMP1.FL@CHS@silly-champagne-burmese@HughesLab.MEME@Motif2.ppm_sumscore@THC_0246_shades\n",
      "Finished for CHAMP1.FL@CHS@silly-champagne-burmese@HughesLab.MEME@Motif2.ppm_best@THC_0246_shades\n",
      "Finished for CHAMP1.DBD@SMS@flaky-saffron-walrus@HughesLab.Homer@Motif5.ppm_sumscore@THC_0246_shades\n",
      "Finished for CHAMP1.DBD@SMS@flaky-saffron-walrus@HughesLab.Homer@Motif5.ppm_best@THC_0246_shades\n",
      "Finished for CHAMP1.DBD@PBM.ME@dorky-beige-nightingale@Halle.Dimont@Motif_1_astrained.ppm_sumscore@THC_0246_shades\n",
      "Finished for CHAMP1.DBD@PBM.ME@dorky-beige-nightingale@Halle.Dimont@Motif_1_astrained.ppm_best@THC_0246_shades\n",
      "Finished for CHAMP1.DBD@SMS@dorky-wheat-abyssinian@HughesLab.Streme@Motif3.ppm_sumscore@THC_0246_shades\n",
      "Finished for CHAMP1.DBD@SMS@dorky-wheat-abyssinian@HughesLab.Streme@Motif3.ppm_best@THC_0246_shades\n",
      "Finished for CHAMP1.DBD@SMS@flaky-saffron-walrus@HughesLab.Homer@Motif3.ppm_sumscore@THC_0246_shades\n",
      "Finished for CHAMP1.DBD@SMS@flaky-saffron-walrus@HughesLab.Homer@Motif3.ppm_best@THC_0246_shades\n",
      "Finished for CHAMP1.DBD@SMS@dorky-wheat-abyssinian@HughesLab.Homer@Motif2.ppm_sumscore@THC_0246_shades\n",
      "Finished for CHAMP1.DBD@SMS@dorky-wheat-abyssinian@HughesLab.Homer@Motif2.ppm_best@THC_0246_shades\n",
      "Finished for CHAMP1.FL@CHS@silly-champagne-burmese@HughesLab.Streme@Motif1.ppm_sumscore@THC_0246_shades\n",
      "Finished for CHAMP1.FL@CHS@silly-champagne-burmese@HughesLab.Streme@Motif1.ppm_best@THC_0246_shades\n",
      "Finished for CHAMP1.FL@CHS@silly-champagne-burmese@HughesLab.Streme@Motif2.ppm_sumscore@THC_0246_shades\n",
      "Finished for CHAMP1.FL@CHS@silly-champagne-burmese@HughesLab.Streme@Motif2.ppm_best@THC_0246_shades\n",
      "Finished for CHAMP1.DBD@SMS@flaky-saffron-walrus@HughesLab.Homer@Motif2.ppm_sumscore@THC_0246_shades\n",
      "Finished for CHAMP1.DBD@SMS@flaky-saffron-walrus@HughesLab.Homer@Motif2.ppm_best@THC_0246_shades\n",
      "Finished for CHAMP1.FL@CHS@silly-champagne-burmese@HughesLab.Streme@Motif3.ppm_sumscore@THC_0246_shades\n",
      "Finished for CHAMP1.FL@CHS@silly-champagne-burmese@HughesLab.Streme@Motif3.ppm_best@THC_0246_shades\n",
      "Finished for CHAMP1.FL@CHS@silly-champagne-burmese@HughesLab.MEME@Motif3.ppm_sumscore@THC_0246_shades\n",
      "Finished for CHAMP1.FL@CHS@silly-champagne-burmese@HughesLab.MEME@Motif3.ppm_best@THC_0246_shades\n",
      "Finished for CHAMP1.DBD@SMS@flaky-saffron-walrus@HughesLab.Homer@Motif1.ppm_sumscore@THC_0246_shades\n",
      "Finished for CHAMP1.DBD@SMS@flaky-saffron-walrus@HughesLab.Homer@Motif1.ppm_best@THC_0246_shades\n",
      "Finished for CHAMP1.DBD@SMS@dorky-wheat-abyssinian@HughesLab.Streme@Motif1.ppm_sumscore@THC_0246_shades\n",
      "Finished for CHAMP1.DBD@SMS@dorky-wheat-abyssinian@HughesLab.Streme@Motif1.ppm_best@THC_0246_shades\n",
      "Finished for CHAMP1.FL@CHS@silly-champagne-burmese@HughesLab.Homer@Motif3.ppm_sumscore@THC_0246_shades\n",
      "Finished for CHAMP1.FL@CHS@silly-champagne-burmese@HughesLab.Homer@Motif3.ppm_best@THC_0246_shades\n",
      "Finished for CHAMP1.DBD@SMS@flaky-saffron-walrus@HughesLab.Streme@Motif2.ppm_sumscore@THC_0246_shades\n",
      "Finished for CHAMP1.DBD@SMS@flaky-saffron-walrus@HughesLab.Streme@Motif2.ppm_best@THC_0246_shades\n",
      "Finished for CHAMP1.FL@CHS@silly-champagne-burmese@HughesLab.Homer@Motif5.ppm_sumscore@THC_0246_shades\n",
      "Finished for CHAMP1.FL@CHS@silly-champagne-burmese@HughesLab.Homer@Motif5.ppm_best@THC_0246_shades\n",
      "Finished for CHAMP1.DBD@PBM.HK@wiggy-cardinal-toad@Halle.Dimont@Motif_1_w0_01_bg4_imw15_astrained.ppm_sumscore@THC_0246_shades\n",
      "Finished for CHAMP1.DBD@PBM.HK@wiggy-cardinal-toad@Halle.Dimont@Motif_1_w0_01_bg4_imw15_astrained.ppm_best@THC_0246_shades\n",
      "Finished for CHAMP1.DBD@SMS@dorky-wheat-abyssinian@HughesLab.MEME@Motif2.ppm_sumscore@THC_0246_shades\n",
      "Finished for CHAMP1.DBD@SMS@dorky-wheat-abyssinian@HughesLab.MEME@Motif2.ppm_best@THC_0246_shades\n",
      "Finished for CHAMP1.DBD@SMS@dorky-wheat-abyssinian@HughesLab.Homer@Motif3.ppm_sumscore@THC_0246_shades\n",
      "Finished for CHAMP1.DBD@SMS@dorky-wheat-abyssinian@HughesLab.Homer@Motif3.ppm_best@THC_0246_shades\n",
      "Finished for CHAMP1.DBD@SMS@flaky-saffron-walrus@HughesLab.Streme@Motif3.ppm_sumscore@THC_0246_shades\n",
      "Finished for CHAMP1.DBD@SMS@flaky-saffron-walrus@HughesLab.Streme@Motif3.ppm_best@THC_0246_shades\n"
     ]
    },
    {
     "ename": "KeyboardInterrupt",
     "evalue": "",
     "output_type": "error",
     "traceback": [
      "\u001b[0;31m---------------------------------------------------------------------------\u001b[0m",
      "\u001b[0;31mKeyboardInterrupt\u001b[0m                         Traceback (most recent call last)",
      "\u001b[1;32m/home_local/dpenzar/ibis-challenge/benchmark/1.ipynb Cell 18'\u001b[0m in \u001b[0;36m<cell line: 1>\u001b[0;34m()\u001b[0m\n\u001b[1;32m     <a href='vscode-notebook-cell://ssh-remote%2Bgb.autosome.ru/home_local/dpenzar/ibis-challenge/benchmark/1.ipynb#ch0000043vscode-remote?line=12'>13</a>\u001b[0m     futures[ft] \u001b[39m=\u001b[39m \u001b[39mf\u001b[39m\u001b[39m\"\u001b[39m\u001b[39m{\u001b[39;00mmodel\u001b[39m.\u001b[39mname\u001b[39m}\u001b[39;00m\u001b[39m@\u001b[39m\u001b[39m{\u001b[39;00mds\u001b[39m.\u001b[39mname\u001b[39m}\u001b[39;00m\u001b[39m\"\u001b[39m\n\u001b[1;32m     <a href='vscode-notebook-cell://ssh-remote%2Bgb.autosome.ru/home_local/dpenzar/ibis-challenge/benchmark/1.ipynb#ch0000043vscode-remote?line=14'>15</a>\u001b[0m \u001b[39mprint\u001b[39m(\u001b[39mf\u001b[39m\u001b[39m\"\u001b[39m\u001b[39mSubmited \u001b[39m\u001b[39m{\u001b[39;00m\u001b[39mlen\u001b[39m(futures)\u001b[39m}\u001b[39;00m\u001b[39m futures\u001b[39m\u001b[39m\"\u001b[39m)\n\u001b[0;32m---> <a href='vscode-notebook-cell://ssh-remote%2Bgb.autosome.ru/home_local/dpenzar/ibis-challenge/benchmark/1.ipynb#ch0000043vscode-remote?line=16'>17</a>\u001b[0m \u001b[39mfor\u001b[39;00m ft \u001b[39min\u001b[39;00m as_completed(futures):\n\u001b[1;32m     <a href='vscode-notebook-cell://ssh-remote%2Bgb.autosome.ru/home_local/dpenzar/ibis-challenge/benchmark/1.ipynb#ch0000043vscode-remote?line=17'>18</a>\u001b[0m     name \u001b[39m=\u001b[39m futures[ft]\n\u001b[1;32m     <a href='vscode-notebook-cell://ssh-remote%2Bgb.autosome.ru/home_local/dpenzar/ibis-challenge/benchmark/1.ipynb#ch0000043vscode-remote?line=18'>19</a>\u001b[0m     path \u001b[39m=\u001b[39m ChIPSeqLOGS \u001b[39m/\u001b[39m \u001b[39mf\u001b[39m\u001b[39m\"\u001b[39m\u001b[39m{\u001b[39;00mname\u001b[39m}\u001b[39;00m\u001b[39m.json\u001b[39m\u001b[39m\"\u001b[39m\n",
      "File \u001b[0;32m~/miniconda3/lib/python3.9/concurrent/futures/_base.py:245\u001b[0m, in \u001b[0;36mas_completed\u001b[0;34m(fs, timeout)\u001b[0m\n\u001b[1;32m    <a href='file:///home_local/dpenzar/miniconda3/lib/python3.9/concurrent/futures/_base.py?line=239'>240</a>\u001b[0m     \u001b[39mif\u001b[39;00m wait_timeout \u001b[39m<\u001b[39m \u001b[39m0\u001b[39m:\n\u001b[1;32m    <a href='file:///home_local/dpenzar/miniconda3/lib/python3.9/concurrent/futures/_base.py?line=240'>241</a>\u001b[0m         \u001b[39mraise\u001b[39;00m \u001b[39mTimeoutError\u001b[39;00m(\n\u001b[1;32m    <a href='file:///home_local/dpenzar/miniconda3/lib/python3.9/concurrent/futures/_base.py?line=241'>242</a>\u001b[0m                 \u001b[39m'\u001b[39m\u001b[39m%d\u001b[39;00m\u001b[39m (of \u001b[39m\u001b[39m%d\u001b[39;00m\u001b[39m) futures unfinished\u001b[39m\u001b[39m'\u001b[39m \u001b[39m%\u001b[39m (\n\u001b[1;32m    <a href='file:///home_local/dpenzar/miniconda3/lib/python3.9/concurrent/futures/_base.py?line=242'>243</a>\u001b[0m                 \u001b[39mlen\u001b[39m(pending), total_futures))\n\u001b[0;32m--> <a href='file:///home_local/dpenzar/miniconda3/lib/python3.9/concurrent/futures/_base.py?line=244'>245</a>\u001b[0m waiter\u001b[39m.\u001b[39;49mevent\u001b[39m.\u001b[39;49mwait(wait_timeout)\n\u001b[1;32m    <a href='file:///home_local/dpenzar/miniconda3/lib/python3.9/concurrent/futures/_base.py?line=246'>247</a>\u001b[0m \u001b[39mwith\u001b[39;00m waiter\u001b[39m.\u001b[39mlock:\n\u001b[1;32m    <a href='file:///home_local/dpenzar/miniconda3/lib/python3.9/concurrent/futures/_base.py?line=247'>248</a>\u001b[0m     finished \u001b[39m=\u001b[39m waiter\u001b[39m.\u001b[39mfinished_futures\n",
      "File \u001b[0;32m~/miniconda3/lib/python3.9/threading.py:574\u001b[0m, in \u001b[0;36mEvent.wait\u001b[0;34m(self, timeout)\u001b[0m\n\u001b[1;32m    <a href='file:///home_local/dpenzar/miniconda3/lib/python3.9/threading.py?line=571'>572</a>\u001b[0m signaled \u001b[39m=\u001b[39m \u001b[39mself\u001b[39m\u001b[39m.\u001b[39m_flag\n\u001b[1;32m    <a href='file:///home_local/dpenzar/miniconda3/lib/python3.9/threading.py?line=572'>573</a>\u001b[0m \u001b[39mif\u001b[39;00m \u001b[39mnot\u001b[39;00m signaled:\n\u001b[0;32m--> <a href='file:///home_local/dpenzar/miniconda3/lib/python3.9/threading.py?line=573'>574</a>\u001b[0m     signaled \u001b[39m=\u001b[39m \u001b[39mself\u001b[39;49m\u001b[39m.\u001b[39;49m_cond\u001b[39m.\u001b[39;49mwait(timeout)\n\u001b[1;32m    <a href='file:///home_local/dpenzar/miniconda3/lib/python3.9/threading.py?line=574'>575</a>\u001b[0m \u001b[39mreturn\u001b[39;00m signaled\n",
      "File \u001b[0;32m~/miniconda3/lib/python3.9/threading.py:312\u001b[0m, in \u001b[0;36mCondition.wait\u001b[0;34m(self, timeout)\u001b[0m\n\u001b[1;32m    <a href='file:///home_local/dpenzar/miniconda3/lib/python3.9/threading.py?line=309'>310</a>\u001b[0m \u001b[39mtry\u001b[39;00m:    \u001b[39m# restore state no matter what (e.g., KeyboardInterrupt)\u001b[39;00m\n\u001b[1;32m    <a href='file:///home_local/dpenzar/miniconda3/lib/python3.9/threading.py?line=310'>311</a>\u001b[0m     \u001b[39mif\u001b[39;00m timeout \u001b[39mis\u001b[39;00m \u001b[39mNone\u001b[39;00m:\n\u001b[0;32m--> <a href='file:///home_local/dpenzar/miniconda3/lib/python3.9/threading.py?line=311'>312</a>\u001b[0m         waiter\u001b[39m.\u001b[39;49macquire()\n\u001b[1;32m    <a href='file:///home_local/dpenzar/miniconda3/lib/python3.9/threading.py?line=312'>313</a>\u001b[0m         gotit \u001b[39m=\u001b[39m \u001b[39mTrue\u001b[39;00m\n\u001b[1;32m    <a href='file:///home_local/dpenzar/miniconda3/lib/python3.9/threading.py?line=313'>314</a>\u001b[0m     \u001b[39melse\u001b[39;00m:\n",
      "\u001b[0;31mKeyboardInterrupt\u001b[0m: "
     ]
    }
   ],
   "source": [
    "for cfg in configs[0:10]:\n",
    "    print(f\"Dataset {cfg.name}\")\n",
    "    ds_path = DS_DIR/f\"{protocol.get_shades_ds_name(cfg)}.bed\"\n",
    "    ds = ChIPSeqDataset.load(ds_path, tp=DatasetType.TRAIN, fmt='.tsv')\n",
    "    ds.name = protocol.get_shades_ds_name(cfg)\n",
    "    ds.tf_name = cfg.tf\n",
    "    \n",
    "    futures = {}\n",
    "    for model in bench.models:\n",
    "        if not ds.tf_name in model.tfs: # type: ignore\n",
    "            continue\n",
    "        ft = executor.submit(bench.score_model_on_ds, model, ds)\n",
    "        futures[ft] = f\"{model.name}@{ds.name}\"\n",
    "\n",
    "    print(f\"Submited {len(futures)} futures\")\n",
    "\n",
    "    for ft in as_completed(futures):\n",
    "        name = futures[ft]\n",
    "        path = ChIPSeqLOGS / f\"{name}.json\"\n",
    "        try:\n",
    "            scores = ft.result()\n",
    "            with path.open(\"w\") as outp:\n",
    "                json.dump(scores, outp)\n",
    "        except Exception as exc:\n",
    "            print(exc)\n",
    "            print(f\"Error for {name}\")\n",
    "        else:\n",
    "            print(f\"Finished for {name}\")\n",
    "\n",
    "    \n",
    "\n",
    "    ds_path = DS_DIR/f\"{protocol.get_foreign_ds_name(cfg)}.bed\"\n",
    "    ds = ChIPSeqDataset.load(ds_path, tp=DatasetType.TRAIN, fmt='.tsv')\n",
    "    ds.name = protocol.get_foreign_ds_name(cfg)\n",
    "    ds.tf_name = cfg.tf\n",
    "\n",
    "    futures = {}\n",
    "    for model in bench.models:\n",
    "        if not ds.tf_name in model.tfs: # type: ignore\n",
    "            continue\n",
    "        ft = executor.submit(bench.score_model_on_ds, model, ds)\n",
    "        futures[ft] = f\"{model.name}@{ds.name}\"\n",
    "\n",
    "    print(f\"Submited {len(futures)} futures\")\n",
    "    for ft in as_completed(futures):\n",
    "        name = futures[ft]\n",
    "        path = ChIPSeqLOGS / f\"{name}.json\"\n",
    "\n",
    "        try:\n",
    "            scores = ft.result()\n",
    "            with path.open(\"w\") as outp:\n",
    "                json.dump(scores, outp)\n",
    "        except Exception as exc:\n",
    "            print(f\"Error for {name}\")\n",
    "            print(exc)\n",
    "        else:\n",
    "            print(f\"Finished for {name}\")\n",
    "    \n",
    "\n",
    "\n",
    "    "
   ]
  },
  {
   "cell_type": "code",
   "execution_count": 37,
   "metadata": {},
   "outputs": [
    {
     "data": {
      "text/plain": [
       "'ZNF454'"
      ]
     },
     "execution_count": 37,
     "metadata": {},
     "output_type": "execute_result"
    }
   ],
   "source": [
    "ds.tf_name"
   ]
  },
  {
   "cell_type": "code",
   "execution_count": 38,
   "metadata": {},
   "outputs": [],
   "source": [
    "for model in bench.models:\n",
    "        #if not (isinstance(model, Model) or ds.tf_name is None or model.tfs is None or ds.tf_name in model.tfs):\n",
    "    if not ds.tf_name in model.tfs:\n",
    "        continue\n",
    "    print(model)"
   ]
  },
  {
   "cell_type": "code",
   "execution_count": 41,
   "metadata": {},
   "outputs": [
    {
     "data": {
      "text/plain": [
       "'ZNF454'"
      ]
     },
     "execution_count": 41,
     "metadata": {},
     "output_type": "execute_result"
    }
   ],
   "source": [
    "ds.tf_name"
   ]
  },
  {
   "cell_type": "code",
   "execution_count": 40,
   "metadata": {},
   "outputs": [
    {
     "data": {
      "text/plain": [
       "['ZNF703']"
      ]
     },
     "execution_count": 40,
     "metadata": {},
     "output_type": "execute_result"
    }
   ],
   "source": [
    "model.tfs"
   ]
  },
  {
   "cell_type": "code",
   "execution_count": null,
   "metadata": {},
   "outputs": [],
   "source": [
    "from abc import ABCMeta, abstractmethod\n",
    "\n",
    "from exceptions import WrongDatasetTypeException\n",
    "from typing import Iterator\n",
    "\n",
    "@define\n",
    "class UDataset(metaclass=ABCMeta):\n",
    "    name: str\n",
    "    type: DatasetType\n",
    "    tf_name: str\n",
    "    entries: Optional[List[SeqEntry]] = field(repr=False)\n",
    "    metainfo: dict\n",
    "    disk_path: Path  \n",
    "\n",
    "    SEQUENCE_FIELD: ClassVar[str] = \"sequence\"\n",
    "    LABEL_FIELD: ClassVar[str] = \"label\"\n",
    "    TAG_FIELD: ClassVar[str] = \"tag\"\n",
    "    NO_INFO_VALUE: ClassVar[str] = \"NoInfo\"\n",
    "\n",
    "\n",
    "    def closed(self) -> bool:\n",
    "        return self.entries is None\n",
    "\n",
    "    def __len__(self) -> int:\n",
    "        if self.closed():\n",
    "            raise Exception(\"Operation on closed dataset\")\n",
    "        return len(self.entries) # type: ignore\n",
    "\n",
    "    def __iter__(self) -> Iterator[SeqEntry]:\n",
    "        if self.closed():\n",
    "            raise Exception(\"Operation on closed dataset\")\n",
    "        return iter(self.entries) # type: ignore\n",
    "\n",
    "    def __getitem__(self, ind: int) -> SeqEntry:\n",
    "        if self.closed():\n",
    "            raise Exception(\"Operation on closed dataset\")\n",
    "        return self.entries[ind] # type: ignore\n",
    "    \n",
    "    def get_fields(self) -> list[str]:\n",
    "        if self.type is DatasetType.TRAIN:\n",
    "            return self.get_train_fields()\n",
    "        if self.type is DatasetType.TEST:\n",
    "            return self.get_test_fields()\n",
    "        if self.type is DatasetType.VALIDATION:\n",
    "            return self.get_valid_fields()\n",
    "        if self.type is DatasetType.FULL:\n",
    "            return self.get_full_fields()\n",
    "        raise WrongDatasetTypeException(f\"{self.type}\")\n",
    "\n",
    "    @abstractmethod\n",
    "    def get_train_fields(self):\n",
    "        raise NotImplementedError()\n",
    "    \n",
    "    @abstractmethod\n",
    "    def get_test_fields(self):\n",
    "        raise NotImplementedError()\n",
    "\n",
    "    def get_valid_fields(self):\n",
    "        return self.get_train_fields()\n",
    "    \n",
    "    def get_full_fields(self):\n",
    "        return self.get_train_fields()\n",
    "\n",
    "    def get(self, key, default):\n",
    "        try:\n",
    "            val = getattr(self, key)\n",
    "        except AttributeError:\n",
    "            val = self.metainfo.get(key, default)\n",
    "        return val\n",
    "    \n",
    "    def to_tsv(self,\n",
    "               path: Path,\n",
    "               ds_fields: Optional[List[str]] = None):\n",
    "        fields = self.get_fields()\n",
    "        \n",
    "        if ds_fields:\n",
    "           ds_values = [self.get(fl, self.NO_INFO_VALUE) for fl in ds_fields]\n",
    "\n",
    "        with open(path, \"w\") as out:\n",
    "            if ds_fields:\n",
    "                header = \"\\t\".join(fields + ds_fields)\n",
    "            else:\n",
    "                header = \"\\t\".join(fields)\n",
    "            print(header, file=out)\n",
    "            for en in self.entries:\n",
    "                values = [en.get(fld, self.NO_INFO_VALUE) for fld in fields]  \n",
    "                if ds_fields:\n",
    "                    values.extend(ds_values) # type: ignore\n",
    "                print(\"\\t\".join(values), file=out)\n",
    "                    \n",
    "    def to_json(self, path, mode: Optional[DatasetType] = DatasetType.TEST):\n",
    "        raise NotImplementedError()\n",
    "\n",
    "    @abstractmethod\n",
    "    def to_canonical_format(self, path, mode: Optional[DatasetType] = DatasetType.TEST):\n",
    "        raise NotImplementedError()\n",
    "\n",
    "    def split(self):\n",
    "        raise NotImplementedError()\n",
    "\n",
    "    @classmethod\n",
    "    def load(cls, path: Union[Path, str]) -> 'Dataset':\n",
    "        raise NotImplementedError()\n",
    "        "
   ]
  }
 ],
 "metadata": {
  "interpreter": {
   "hash": "2a6b89ce9ffc256b1b7590cf8df7eee41f38232dcd839c1409bba0f1e7ed7c9d"
  },
  "kernelspec": {
   "display_name": "Python 3.9.5 ('base')",
   "language": "python",
   "name": "python3"
  },
  "language_info": {
   "codemirror_mode": {
    "name": "ipython",
    "version": 3
   },
   "file_extension": ".py",
   "mimetype": "text/x-python",
   "name": "python",
   "nbconvert_exporter": "python",
   "pygments_lexer": "ipython3",
   "version": "3.9.5"
  },
  "orig_nbformat": 4
 },
 "nbformat": 4,
 "nbformat_minor": 2
}

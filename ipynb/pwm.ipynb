{
 "cells": [
  {
   "cell_type": "code",
   "execution_count": 1,
   "metadata": {},
   "outputs": [],
   "source": [
    "%load_ext autoreload\n",
    "%autoreload 2"
   ]
  },
  {
   "cell_type": "code",
   "execution_count": 2,
   "metadata": {},
   "outputs": [],
   "source": [
    "import os \n",
    "MODULES_PATH = os.path.abspath(\"../\")"
   ]
  },
  {
   "cell_type": "code",
   "execution_count": 3,
   "metadata": {},
   "outputs": [],
   "source": [
    "import sys\n",
    "\n",
    "sys.path.append(MODULES_PATH)"
   ]
  },
  {
   "cell_type": "code",
   "execution_count": 4,
   "metadata": {},
   "outputs": [],
   "source": [
    "import bibis"
   ]
  },
  {
   "cell_type": "code",
   "execution_count": 6,
   "metadata": {},
   "outputs": [],
   "source": [
    "from bibis.benchmark.benchmarkconfig import BenchmarkConfig\n",
    "from bibis.benchmark.dataset import DatasetInfo\n",
    "from bibis.scoring.scorer import ScorerInfo\n",
    "from pathlib import Path "
   ]
  },
  {
   "cell_type": "code",
   "execution_count": 7,
   "metadata": {},
   "outputs": [],
   "source": [
    "dataset_info = DatasetInfo(name=\"dumb\",\n",
    "            tf=\"DUMB\",\n",
    "            path=\"../safe_examples/dump.fasta\")"
   ]
  },
  {
   "cell_type": "code",
   "execution_count": 13,
   "metadata": {},
   "outputs": [],
   "source": [
    "cfg = BenchmarkConfig(name=\"trial\",\n",
    "                datasets=[dataset_info],\n",
    "                scorers=[ScorerInfo(name=\"scikit_rocauc\",\n",
    "                                    alias=\"skroauc\"),\n",
    "                         ScorerInfo(name=\"constant_5\", \n",
    "                                    alias=\"cons_5\",\n",
    "                                    params={\"cons\": 5})],\n",
    "                results_dir=Path(\"trial_results\"),\n",
    "                pwmeval_path=Path(\"/home_local/dpenzar/PWMEval/pwm_scoring\"))"
   ]
  },
  {
   "cell_type": "code",
   "execution_count": null,
   "metadata": {},
   "outputs": [],
   "source": []
  },
  {
   "cell_type": "code",
   "execution_count": 14,
   "metadata": {},
   "outputs": [],
   "source": []
  },
  {
   "cell_type": "code",
   "execution_count": 15,
   "metadata": {},
   "outputs": [
    {
     "data": {
      "text/plain": [
       "BenchmarkConfig(name='trial', datasets=[PosixPath('example.fasta')], scorers=[ScorerInfo(name='scikit_rocauc', alias='skroauc', params={}), ScorerInfo(name='constant_5', alias='cons_5', params={'cons': 5})], results_dir=PosixPath('trial_results'), pwmeval_path=PosixPath('/home_local/dpenzar/PWMEval/pwm_scoring'), metainfo={})"
      ]
     },
     "execution_count": 15,
     "metadata": {},
     "output_type": "execute_result"
    }
   ],
   "source": [
    "cfg"
   ]
  },
  {
   "cell_type": "code",
   "execution_count": null,
   "metadata": {},
   "outputs": [],
   "source": []
  },
  {
   "cell_type": "code",
   "execution_count": 17,
   "metadata": {},
   "outputs": [],
   "source": [
    "from dataclasses import dataclass\n",
    "class Submit:\n",
    "    name: str\n",
    "\n",
    "@dataclass\n",
    "class AAASubmit(Submit):\n",
    "    name: str\n",
    "    score_path: Path"
   ]
  },
  {
   "cell_type": "code",
   "execution_count": null,
   "metadata": {},
   "outputs": [],
   "source": []
  }
 ],
 "metadata": {
  "kernelspec": {
   "display_name": "py3p10",
   "language": "python",
   "name": "python3"
  },
  "language_info": {
   "codemirror_mode": {
    "name": "ipython",
    "version": 3
   },
   "file_extension": ".py",
   "mimetype": "text/x-python",
   "name": "python",
   "nbconvert_exporter": "python",
   "pygments_lexer": "ipython3",
   "version": "3.10.9"
  },
  "vscode": {
   "interpreter": {
    "hash": "8331647c2c8528fab03cdbfbad8d42452f3b958e8950950c459b20153822a293"
   }
  }
 },
 "nbformat": 4,
 "nbformat_minor": 2
}
